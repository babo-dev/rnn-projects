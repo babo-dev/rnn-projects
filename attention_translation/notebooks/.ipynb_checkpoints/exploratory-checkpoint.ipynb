{
 "cells": [
  {
   "cell_type": "code",
   "execution_count": 4,
   "id": "2fd0912d-1c40-4069-a728-998146eaa45a",
   "metadata": {},
   "outputs": [],
   "source": [
    "import os\n",
    "import sys\n",
    "import torch\n",
    "from data.dataset import prepareData\n",
    "from trainer import load_models\n",
    "from models.encoder import EncoderRNN\n",
    "from models.seq2seq import AttnDecoderRNN\n",
    "\n",
    "import matplotlib.pyplot as plt\n",
    "\n",
    "plt.switch_backend('agg')\n",
    "import matplotlib.ticker as ticker\n",
    "\n",
    "import torch\n",
    "from data.dataset import EOS_token, tensorFromSentence"
   ]
  },
  {
   "cell_type": "code",
   "execution_count": 5,
   "id": "a8f5757a-71ee-453d-91a0-73e058bc1931",
   "metadata": {},
   "outputs": [],
   "source": [
    "%matplotlib inline"
   ]
  },
  {
   "cell_type": "code",
   "execution_count": null,
   "id": "569e7d3e-a498-483b-ba86-176843d55660",
   "metadata": {},
   "outputs": [],
   "source": []
  },
  {
   "cell_type": "code",
   "execution_count": 2,
   "id": "b78ae751-4ba1-4cde-b33a-fd99f125f00d",
   "metadata": {},
   "outputs": [
    {
     "data": {
      "text/plain": [
       "'/Users/babanyyaz/Documents/Projects/python/rnn-projects/attention_translation'"
      ]
     },
     "execution_count": 2,
     "metadata": {},
     "output_type": "execute_result"
    }
   ],
   "source": [
    "project_dir = \"/Users/babanyyaz/Documents/Projects/python/rnn-projects/attention_translation\"\n",
    "project_dir"
   ]
  },
  {
   "cell_type": "code",
   "execution_count": 3,
   "id": "4ad7eff1-af8d-4a34-a7fa-a803268d89b7",
   "metadata": {},
   "outputs": [],
   "source": [
    "sys.path.append(project_dir)"
   ]
  },
  {
   "cell_type": "code",
   "execution_count": 6,
   "id": "705124b5-c7cf-4fdd-8ce3-cb65017a777a",
   "metadata": {},
   "outputs": [],
   "source": [
    "from evaulator import evaluate, evaluateAndShowAttention"
   ]
  },
  {
   "cell_type": "code",
   "execution_count": null,
   "id": "028e1cc6-310d-47f3-b927-41b836621789",
   "metadata": {},
   "outputs": [],
   "source": []
  },
  {
   "cell_type": "code",
   "execution_count": 7,
   "id": "d89e912e-3366-4f1f-9ecf-55e743e7fabd",
   "metadata": {},
   "outputs": [
    {
     "name": "stdout",
     "output_type": "stream",
     "text": [
      "Reading lines...\n",
      "Read 3509 sentence pairs\n",
      "Trimmed to 2818 sentence pairs\n",
      "Counting words...\n",
      "Counted words:\n",
      "tk 4130\n",
      "eng 1943\n",
      "Encoder loaded from ../saved/checkpoints/encoder.pth\n",
      "Decoder loaded from ../saved/checkpoints/decoder.pth\n",
      "input = dur !\n",
      "output = run ! <EOS>\n",
      "input = garas !\n",
      "output = it s only chance ! <EOS>\n",
      "input = garasmak\n",
      "output = we ll be here much longer <EOS>\n",
      "input = salam\n",
      "output = we need to come back in australia <EOS>\n",
      "input = tiz bol !\n",
      "output = run ! <EOS>\n",
      "input = men synanysyan\n",
      "output = i like money <EOS>\n"
     ]
    },
    {
     "name": "stderr",
     "output_type": "stream",
     "text": [
      "/Users/babanyyaz/Documents/Projects/python/rnn-projects/attention_translation/evaulator.py:53: UserWarning: FixedFormatter should only be used together with FixedLocator\n",
      "  ax.set_xticklabels([''] + input_sentence.split(' ') +\n",
      "/Users/babanyyaz/Documents/Projects/python/rnn-projects/attention_translation/evaulator.py:55: UserWarning: FixedFormatter should only be used together with FixedLocator\n",
      "  ax.set_yticklabels([''] + output_words)\n",
      "/Users/babanyyaz/Documents/Projects/python/rnn-projects/attention_translation/evaulator.py:61: UserWarning: Matplotlib is currently using agg, which is a non-GUI backend, so cannot show the figure.\n",
      "  plt.show()\n"
     ]
    }
   ],
   "source": [
    "device = torch.device(\"cuda\" if torch.cuda.is_available() else \"cpu\")\n",
    "hidden_size = 128\n",
    "file_path = \"../data/processed/tuk_processed.txt\"\n",
    "checkpoint_path = \"../saved/checkpoints\"\n",
    "\n",
    "input_lang, output_lang, pairs = prepareData('eng', 'tk', file_path, True)\n",
    "encoder = EncoderRNN(input_lang.n_words, hidden_size).to(device)\n",
    "decoder = AttnDecoderRNN(hidden_size, output_lang.n_words).to(device)\n",
    "load_models(encoder, decoder, checkpoint_path)\n",
    "encoder.eval()\n",
    "decoder.eval()\n",
    "\n",
    "# evaluateRandomly(input_lang, output_lang, pairs, encoder, decoder, n=10)\n",
    "for idx, pair in enumerate(pairs[10:50]):\n",
    "    if idx > 5:\n",
    "        break\n",
    "    evaluateAndShowAttention(input_lang, output_lang, encoder, decoder, pair[0])"
   ]
  },
  {
   "cell_type": "code",
   "execution_count": null,
   "id": "4f1c529f-98cc-4e87-9189-82d23e51bbf2",
   "metadata": {},
   "outputs": [],
   "source": []
  },
  {
   "cell_type": "code",
   "execution_count": 8,
   "id": "a28bf19b-bb76-4c40-8fef-1b683b9e8b74",
   "metadata": {},
   "outputs": [],
   "source": [
    "def evaluate(encoder, decoder, sentence, input_lang, output_lang):\n",
    "    with torch.no_grad():\n",
    "        input_tensor = tensorFromSentence(input_lang, sentence)\n",
    "\n",
    "        encoder_outputs, encoder_hidden = encoder(input_tensor)\n",
    "        decoder_outputs, decoder_hidden, decoder_attn = decoder(encoder_outputs, encoder_hidden)\n",
    "\n",
    "        _, topi = decoder_outputs.topk(1)\n",
    "        decoded_ids = topi.squeeze()\n",
    "\n",
    "        decoded_words = []\n",
    "        for idx in decoded_ids:\n",
    "            if idx.item() == EOS_token:\n",
    "                decoded_words.append('<EOS>')\n",
    "                break\n",
    "            decoded_words.append(output_lang.index2word[idx.item()])\n",
    "    return decoded_words, decoder_attn"
   ]
  },
  {
   "cell_type": "code",
   "execution_count": 10,
   "id": "a82c7c6e-4d10-4300-9d00-791a03d7ba2d",
   "metadata": {},
   "outputs": [
    {
     "data": {
      "text/plain": [
       "(['i', 'like', 'money', '<EOS>'],\n",
       " tensor([[[3.2089e-03, 1.8765e-01, 8.0914e-01],\n",
       "          [5.4990e-03, 6.4547e-02, 9.2995e-01],\n",
       "          [7.1823e-03, 2.0529e-01, 7.8752e-01],\n",
       "          [8.4949e-03, 2.5702e-01, 7.3449e-01],\n",
       "          [2.4816e-03, 5.1352e-02, 9.4617e-01],\n",
       "          [1.7317e-04, 1.9159e-03, 9.9791e-01],\n",
       "          [1.4958e-04, 1.7788e-03, 9.9807e-01],\n",
       "          [1.5128e-04, 2.0007e-03, 9.9785e-01],\n",
       "          [1.5771e-04, 2.0638e-03, 9.9778e-01],\n",
       "          [1.6030e-04, 2.0543e-03, 9.9779e-01]]]))"
      ]
     },
     "execution_count": 10,
     "metadata": {},
     "output_type": "execute_result"
    }
   ],
   "source": [
    "sent = \"men synanysyan\"\n",
    "evaluate(encoder, decoder, sent, input_lang, output_lang)"
   ]
  },
  {
   "cell_type": "code",
   "execution_count": null,
   "id": "c811b1d9-a7c5-4a63-b152-dc97ed0389b0",
   "metadata": {},
   "outputs": [],
   "source": []
  },
  {
   "cell_type": "code",
   "execution_count": null,
   "id": "ba56200e-a506-4a8b-8567-2fe5da857bfe",
   "metadata": {},
   "outputs": [],
   "source": []
  },
  {
   "cell_type": "code",
   "execution_count": 12,
   "id": "6105f97d-dd52-4580-8f8c-ce8af004dc53",
   "metadata": {},
   "outputs": [
    {
     "name": "stdout",
     "output_type": "stream",
     "text": [
      "Looking in indexes: https://pypi.org/simple, https://pypi.ngc.nvidia.com\n",
      "Requirement already satisfied: tqdm in /Users/babanyyaz/miniconda/envs/torch38/lib/python3.8/site-packages (4.67.1)\n"
     ]
    }
   ],
   "source": [
    "!pip install tqdm"
   ]
  },
  {
   "cell_type": "code",
   "execution_count": 2,
   "id": "f8ceecd6-aa14-40f4-b5b1-6157fea805d9",
   "metadata": {},
   "outputs": [
    {
     "data": {
      "application/vnd.jupyter.widget-view+json": {
       "model_id": "63dbdc3ff92942b2ae22d34e8c8e601c",
       "version_major": 2,
       "version_minor": 0
      },
      "text/plain": [
       "Downloading builder script:   0%|          | 0.00/5.94k [00:00<?, ?B/s]"
      ]
     },
     "metadata": {},
     "output_type": "display_data"
    },
    {
     "data": {
      "application/vnd.jupyter.widget-view+json": {
       "model_id": "f386345e75824d0ab22c25e9d7de578d",
       "version_major": 2,
       "version_minor": 0
      },
      "text/plain": [
       "Downloading extra modules:   0%|          | 0.00/1.55k [00:00<?, ?B/s]"
      ]
     },
     "metadata": {},
     "output_type": "display_data"
    },
    {
     "data": {
      "application/vnd.jupyter.widget-view+json": {
       "model_id": "f2ac12489991486f9fc909159b5d3924",
       "version_major": 2,
       "version_minor": 0
      },
      "text/plain": [
       "Downloading extra modules:   0%|          | 0.00/3.34k [00:00<?, ?B/s]"
      ]
     },
     "metadata": {},
     "output_type": "display_data"
    }
   ],
   "source": [
    "import evaluate\n",
    "\n",
    "# Load the BLEU metric\n",
    "bleu_metric = evaluate.load(\"bleu\")"
   ]
  },
  {
   "cell_type": "code",
   "execution_count": 6,
   "id": "478ca004-caef-45d5-9093-2b3ea86e7261",
   "metadata": {},
   "outputs": [
    {
     "name": "stdout",
     "output_type": "stream",
     "text": [
      "BLEU Score: 0.0000\n"
     ]
    }
   ],
   "source": [
    "predictions = [\"this\", \"is\", \"a\", \"test\"]\n",
    "references = [[\"this\"], [\"is\"], [\"a\"], [\"good\"]]\n",
    "\n",
    "# Compute BLEU score\n",
    "results = bleu_metric.compute(predictions=predictions, references=references)\n",
    "\n",
    "# Print the BLEU score\n",
    "print(f\"BLEU Score: {results['bleu']:.4f}\")"
   ]
  },
  {
   "cell_type": "code",
   "execution_count": null,
   "id": "31cb59cb-b779-482d-83b7-b70102b926ed",
   "metadata": {},
   "outputs": [],
   "source": []
  }
 ],
 "metadata": {
  "kernelspec": {
   "display_name": "Python 3 (ipykernel)",
   "language": "python",
   "name": "python3"
  },
  "language_info": {
   "codemirror_mode": {
    "name": "ipython",
    "version": 3
   },
   "file_extension": ".py",
   "mimetype": "text/x-python",
   "name": "python",
   "nbconvert_exporter": "python",
   "pygments_lexer": "ipython3",
   "version": "3.8.20"
  }
 },
 "nbformat": 4,
 "nbformat_minor": 5
}
