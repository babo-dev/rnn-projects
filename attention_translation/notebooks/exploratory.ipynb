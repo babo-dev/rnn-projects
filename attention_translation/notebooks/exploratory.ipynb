{
 "cells": [
  {
   "cell_type": "code",
   "execution_count": 3,
   "id": "b78ae751-4ba1-4cde-b33a-fd99f125f00d",
   "metadata": {},
   "outputs": [
    {
     "data": {
      "text/plain": [
       "'/Users/babanyyaz/Documents/Projects/python/rnn-projects/attention_translation'"
      ]
     },
     "execution_count": 3,
     "metadata": {},
     "output_type": "execute_result"
    }
   ],
   "source": [
    "import os\n",
    "import sys\n",
    "project_dir = \"/Users/babanyyaz/Documents/Projects/python/rnn-projects/attention_translation\"\n",
    "project_dir"
   ]
  },
  {
   "cell_type": "code",
   "execution_count": 4,
   "id": "4ad7eff1-af8d-4a34-a7fa-a803268d89b7",
   "metadata": {},
   "outputs": [],
   "source": [
    "sys.path.append(project_dir)"
   ]
  },
  {
   "cell_type": "code",
   "execution_count": 5,
   "id": "2fd0912d-1c40-4069-a728-998146eaa45a",
   "metadata": {},
   "outputs": [],
   "source": [
    "import torch\n",
    "from data.dataset import prepareData\n",
    "from trainer import load_models\n",
    "\n",
    "import matplotlib.pyplot as plt\n",
    "\n",
    "plt.switch_backend('agg')\n",
    "import matplotlib.ticker as ticker\n",
    "\n",
    "import torch\n",
    "from data.dataset import EOS_token, tensorFromSentence"
   ]
  },
  {
   "cell_type": "code",
   "execution_count": 6,
   "id": "a8f5757a-71ee-453d-91a0-73e058bc1931",
   "metadata": {},
   "outputs": [],
   "source": [
    "%matplotlib inline"
   ]
  },
  {
   "cell_type": "code",
   "execution_count": null,
   "id": "6f637d11-9360-4090-9a06-bff2679e4b3d",
   "metadata": {},
   "outputs": [],
   "source": [
    "from models.encoder import EncoderRNN\n",
    "from models.seq2seq import AttnDecoderRNN"
   ]
  },
  {
   "cell_type": "code",
   "execution_count": null,
   "id": "569e7d3e-a498-483b-ba86-176843d55660",
   "metadata": {},
   "outputs": [],
   "source": []
  },
  {
   "cell_type": "code",
   "execution_count": null,
   "id": "705124b5-c7cf-4fdd-8ce3-cb65017a777a",
   "metadata": {},
   "outputs": [],
   "source": [
    "from evaulator import evaluate, evaluateAndShowAttention"
   ]
  },
  {
   "cell_type": "code",
   "execution_count": null,
   "id": "028e1cc6-310d-47f3-b927-41b836621789",
   "metadata": {},
   "outputs": [],
   "source": []
  },
  {
   "cell_type": "code",
   "execution_count": null,
   "id": "d89e912e-3366-4f1f-9ecf-55e743e7fabd",
   "metadata": {},
   "outputs": [],
   "source": [
    "device = torch.device(\"cuda\" if torch.cuda.is_available() else \"cpu\")\n",
    "hidden_size = 128\n",
    "file_path = \"../data/processed/tuk_processed.txt\"\n",
    "checkpoint_path = \"../saved/checkpoints\"\n",
    "\n",
    "input_lang, output_lang, pairs = prepareData('eng', 'tk', file_path, True)\n",
    "encoder = EncoderRNN(input_lang.n_words, hidden_size).to(device)\n",
    "decoder = AttnDecoderRNN(hidden_size, output_lang.n_words).to(device)\n",
    "load_models(encoder, decoder, checkpoint_path)\n",
    "encoder.eval()\n",
    "decoder.eval()\n",
    "\n",
    "# evaluateRandomly(input_lang, output_lang, pairs, encoder, decoder, n=10)\n",
    "# for idx, pair in enumerate(pairs[10:50]):\n",
    "#     if idx > 5:\n",
    "#         break\n",
    "#     evaluateAndShowAttention(input_lang, output_lang, encoder, decoder, pair[0])"
   ]
  },
  {
   "cell_type": "code",
   "execution_count": null,
   "id": "4f1c529f-98cc-4e87-9189-82d23e51bbf2",
   "metadata": {},
   "outputs": [],
   "source": []
  },
  {
   "cell_type": "code",
   "execution_count": null,
   "id": "ac334a3c-256e-45a9-8a07-dc96d497914a",
   "metadata": {},
   "outputs": [],
   "source": []
  },
  {
   "cell_type": "code",
   "execution_count": null,
   "id": "617ce89b-14e2-4ba8-9707-c341543649b9",
   "metadata": {},
   "outputs": [],
   "source": [
    "predictions = []\n",
    "references = []\n",
    "for idx, pair in enumerate(pairs):\n",
    "    if idx > 20:\n",
    "        break\n",
    "    dec_words, _ = evaluate(encoder, decoder, pair[0], input_lang, output_lang)\n",
    "    generated = ' '.join(dec_words[:-1])\n",
    "    predictions.append(generated)\n",
    "    references.append([pair[1]])"
   ]
  },
  {
   "cell_type": "code",
   "execution_count": null,
   "id": "3811f487-2867-41d2-91f4-bcac9850579d",
   "metadata": {},
   "outputs": [],
   "source": []
  },
  {
   "cell_type": "code",
   "execution_count": null,
   "id": "329cecc8-799b-4e9b-aa75-647030cf972c",
   "metadata": {},
   "outputs": [],
   "source": []
  },
  {
   "cell_type": "markdown",
   "id": "885b098a-1695-4545-a91d-f22713b8b6a3",
   "metadata": {},
   "source": [
    "results = bleu_metric.compute(predictions=predictions, references=references)\n",
    "results\n",
    "\n",
    "`MAX_LEN = 10`\n",
    "\n",
    "for 0.03 model loss\n",
    "```\n",
    "{'bleu': 0.0,\n",
    " 'precisions': [0.39705882352941174, 0.19148936170212766, 0.0, 0.0],\n",
    " 'brevity_penalty': 1.0,\n",
    " 'length_ratio': 1.9428571428571428,\n",
    " 'translation_length': 68,\n",
    " 'reference_length': 35}\n",
    "```"
   ]
  },
  {
   "cell_type": "markdown",
   "id": "ec9e6b36-da8c-412b-a9df-b471e5699670",
   "metadata": {},
   "source": [
    "results = bleu_metric.compute(predictions=predictions, references=references)\n",
    "results\n",
    "\n",
    "`MAX_LEN = 10`\n",
    "\n",
    "```\n",
    "Counted words:\n",
    "tk 4130\n",
    "eng 1943\n",
    "```\n",
    "\n",
    "for 0.06 model loss\n",
    "```\n",
    "{'bleu': 0.0,\n",
    " 'precisions': [0.30434782608695654, 0.125, 0.0, 0.0],\n",
    " 'brevity_penalty': 1.0,\n",
    " 'length_ratio': 1.9714285714285715,\n",
    " 'translation_length': 69,\n",
    " 'reference_length': 35}\n",
    "```"
   ]
  },
  {
   "cell_type": "code",
   "execution_count": null,
   "id": "3c100f40-0e33-4474-b15e-25109342fad4",
   "metadata": {},
   "outputs": [],
   "source": []
  },
  {
   "cell_type": "code",
   "execution_count": null,
   "id": "0484ff79-b1e3-4316-8cd8-7def53df958b",
   "metadata": {},
   "outputs": [],
   "source": []
  },
  {
   "cell_type": "code",
   "execution_count": null,
   "id": "c811b1d9-a7c5-4a63-b152-dc97ed0389b0",
   "metadata": {},
   "outputs": [],
   "source": []
  },
  {
   "cell_type": "code",
   "execution_count": null,
   "id": "ba56200e-a506-4a8b-8567-2fe5da857bfe",
   "metadata": {},
   "outputs": [],
   "source": []
  },
  {
   "cell_type": "code",
   "execution_count": null,
   "id": "6105f97d-dd52-4580-8f8c-ce8af004dc53",
   "metadata": {},
   "outputs": [],
   "source": [
    "!pip install tqdm"
   ]
  },
  {
   "cell_type": "code",
   "execution_count": null,
   "id": "f8ceecd6-aa14-40f4-b5b1-6157fea805d9",
   "metadata": {},
   "outputs": [],
   "source": [
    "import evaluate\n",
    "\n",
    "# Load the BLEU metric\n",
    "bleu_metric = evaluate.load(\"bleu\")"
   ]
  },
  {
   "cell_type": "code",
   "execution_count": null,
   "id": "478ca004-caef-45d5-9093-2b3ea86e7261",
   "metadata": {},
   "outputs": [],
   "source": [
    "predictions = [\"this is a test\", \"this is test\"]\n",
    "references = [[\"this is good\"], [\"this is a\"]]\n",
    "\n",
    "# Compute BLEU score\n",
    "results = bleu_metric.compute(predictions=predictions, references=references)\n",
    "\n",
    "results"
   ]
  },
  {
   "cell_type": "code",
   "execution_count": null,
   "id": "31cb59cb-b779-482d-83b7-b70102b926ed",
   "metadata": {},
   "outputs": [],
   "source": []
  },
  {
   "cell_type": "code",
   "execution_count": null,
   "id": "34e645cf-71c2-4f88-8789-739031747111",
   "metadata": {},
   "outputs": [],
   "source": []
  }
 ],
 "metadata": {
  "kernelspec": {
   "display_name": "Python 3 (ipykernel)",
   "language": "python",
   "name": "python3"
  },
  "language_info": {
   "codemirror_mode": {
    "name": "ipython",
    "version": 3
   },
   "file_extension": ".py",
   "mimetype": "text/x-python",
   "name": "python",
   "nbconvert_exporter": "python",
   "pygments_lexer": "ipython3",
   "version": "3.8.20"
  }
 },
 "nbformat": 4,
 "nbformat_minor": 5
}
