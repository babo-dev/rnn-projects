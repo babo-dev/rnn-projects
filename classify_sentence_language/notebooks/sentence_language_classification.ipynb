{
  "nbformat": 4,
  "nbformat_minor": 0,
  "metadata": {
    "colab": {
      "provenance": [],
      "gpuType": "T4",
      "authorship_tag": "ABX9TyPHdxtMKrlyYyc8zqiVOisx",
      "include_colab_link": true
    },
    "kernelspec": {
      "name": "python3",
      "display_name": "Python 3"
    },
    "language_info": {
      "name": "python"
    },
    "accelerator": "GPU"
  },
  "cells": [
    {
      "cell_type": "markdown",
      "metadata": {
        "id": "view-in-github",
        "colab_type": "text"
      },
      "source": [
        "<a href=\"https://colab.research.google.com/github/babo-dev/rnn-projects/blob/main/notebooks/sentence_language_classification.ipynb\" target=\"_parent\"><img src=\"https://colab.research.google.com/assets/colab-badge.svg\" alt=\"Open In Colab\"/></a>"
      ]
    },
    {
      "cell_type": "code",
      "execution_count": 1,
      "metadata": {
        "colab": {
          "base_uri": "https://localhost:8080/"
        },
        "id": "wL1YOrsmb-wC",
        "outputId": "4979bb08-f5dd-48d2-8d84-7c4411606348"
      },
      "outputs": [
        {
          "output_type": "stream",
          "name": "stdout",
          "text": [
            "Cloning into 'rnn-projects'...\n",
            "remote: Enumerating objects: 50, done.\u001b[K\n",
            "remote: Counting objects: 100% (50/50), done.\u001b[K\n",
            "remote: Compressing objects: 100% (39/39), done.\u001b[K\n",
            "remote: Total 50 (delta 11), reused 42 (delta 9), pack-reused 0 (from 0)\u001b[K\n",
            "Receiving objects: 100% (50/50), 3.38 MiB | 16.78 MiB/s, done.\n",
            "Resolving deltas: 100% (11/11), done.\n"
          ]
        }
      ],
      "source": [
        "!git clone https://github.com/babo-dev/rnn-projects.git"
      ]
    },
    {
      "cell_type": "code",
      "source": [
        "!cd rnn-projects/classify_sentence_language/"
      ],
      "metadata": {
        "id": "S3_QR7gicB8H"
      },
      "execution_count": 2,
      "outputs": []
    },
    {
      "cell_type": "code",
      "source": [
        "import sys\n",
        "sys.path.append('/content/rnn-projects/classify_sentence_language/')"
      ],
      "metadata": {
        "id": "24l8-kuPc6SL"
      },
      "execution_count": 3,
      "outputs": []
    },
    {
      "cell_type": "code",
      "source": [
        "!pip install sentencepiece"
      ],
      "metadata": {
        "colab": {
          "base_uri": "https://localhost:8080/"
        },
        "id": "AnGzVWyXdDhE",
        "outputId": "6483d727-7229-4482-95ec-8b1d3b26f1a8"
      },
      "execution_count": 4,
      "outputs": [
        {
          "output_type": "stream",
          "name": "stdout",
          "text": [
            "Requirement already satisfied: sentencepiece in /usr/local/lib/python3.11/dist-packages (0.2.0)\n"
          ]
        }
      ]
    },
    {
      "cell_type": "code",
      "source": [],
      "metadata": {
        "id": "hVJmk5XFdJJU"
      },
      "execution_count": 4,
      "outputs": []
    },
    {
      "cell_type": "code",
      "source": [
        "from dataloader import train_loader\n",
        "from models import RawRNNModel, LSTMModel\n",
        "import sentencepiece as spm\n",
        "import torch\n"
      ],
      "metadata": {
        "id": "NIgu_C4Hcv11"
      },
      "execution_count": 5,
      "outputs": []
    },
    {
      "cell_type": "code",
      "source": [
        "project_path = \"/content/rnn-projects/classify_sentence_language/\"\n",
        "data_path = project_path + \"data/train/\"\n",
        "save_dir = project_path + \"data/models/model.pth\"\n",
        "embedding_model_path = project_path + \"embeddings/embedding.model\"\n",
        "num_epochs = 50\n",
        "device = torch.device(\"cuda\" if torch.cuda.is_available() else \"cpu\")\n",
        "debugging = False\n",
        "\n",
        "sp = spm.SentencePieceProcessor()\n",
        "sp.Load(embedding_model_path)\n",
        "\n",
        "dataloader = train_loader(data_path, embedding_model=sp, debugging=debugging)\n",
        "\n",
        "vocab_size = sp.GetPieceSize()\n",
        "embedding_dim = 64\n",
        "hidden_dim = 64\n",
        "output_dim = len(dataloader.dataset.label2id)\n",
        "num_layers = 2"
      ],
      "metadata": {
        "id": "6ZR6EukZc2gR"
      },
      "execution_count": 6,
      "outputs": []
    },
    {
      "cell_type": "code",
      "source": [
        "model = LSTMModel(vocab_size, embedding_dim, hidden_dim, output_dim, num_layers)\n",
        "model.to(device)\n",
        "model.train()\n",
        "model"
      ],
      "metadata": {
        "colab": {
          "base_uri": "https://localhost:8080/"
        },
        "id": "aCgvRIQJeIG0",
        "outputId": "1fb8d0ba-8a51-42e2-b78b-fd4ba83c3c9f"
      },
      "execution_count": 7,
      "outputs": [
        {
          "output_type": "execute_result",
          "data": {
            "text/plain": [
              "LSTMModel(\n",
              "  (embedding): Embedding(2000, 64)\n",
              "  (dropout): Dropout(p=0.2, inplace=False)\n",
              "  (lstm): LSTM(64, 64, num_layers=2, batch_first=True, dropout=0.2)\n",
              "  (fc): Linear(in_features=64, out_features=4, bias=True)\n",
              ")"
            ]
          },
          "metadata": {},
          "execution_count": 7
        }
      ]
    },
    {
      "cell_type": "code",
      "source": [
        "criterion = torch.nn.CrossEntropyLoss()\n",
        "optimizer = torch.optim.Adam(model.parameters(), lr=0.001)\n",
        "scheduler = torch.optim.lr_scheduler.StepLR(optimizer, step_size=20, gamma=0.1)"
      ],
      "metadata": {
        "id": "nWiREIfXeNSe"
      },
      "execution_count": 8,
      "outputs": []
    },
    {
      "cell_type": "code",
      "source": [
        "len(dataloader.dataset.sentences)"
      ],
      "metadata": {
        "colab": {
          "base_uri": "https://localhost:8080/"
        },
        "id": "FHbnqCQLecia",
        "outputId": "8c85d7ca-9916-4332-d2c5-765b599f622e"
      },
      "execution_count": 9,
      "outputs": [
        {
          "output_type": "execute_result",
          "data": {
            "text/plain": [
              "108681"
            ]
          },
          "metadata": {},
          "execution_count": 9
        }
      ]
    },
    {
      "cell_type": "code",
      "source": [
        "num_epochs = 10"
      ],
      "metadata": {
        "id": "z6KcNq9MfzVX"
      },
      "execution_count": 11,
      "outputs": []
    },
    {
      "cell_type": "code",
      "source": [
        "for epoch in range(num_epochs):\n",
        "    total_loss = 0\n",
        "    correct = 0\n",
        "    total = 0\n",
        "\n",
        "    for batch_idx, (sentences, labels) in enumerate(dataloader):\n",
        "        sentences = sentences.to(device)\n",
        "        labels = labels.to(device)\n",
        "\n",
        "        optimizer.zero_grad()\n",
        "        outputs = model(sentences)\n",
        "        loss = criterion(outputs, labels)\n",
        "        loss.backward()\n",
        "        optimizer.step()\n",
        "\n",
        "        total_loss += loss.item()\n",
        "        _, predicted = torch.max(outputs, 1)\n",
        "        total += labels.size(0)\n",
        "        correct += (predicted == labels).sum().item()\n",
        "\n",
        "    scheduler.step()\n",
        "\n",
        "    accuracy = 100 * correct / total\n",
        "    avg_loss = total_loss / len(dataloader)\n",
        "\n",
        "    print(f\"Epoch [{epoch + 1}/{num_epochs}], Loss: {avg_loss:.4f}, Accuracy: {accuracy:.2f}%\")\n",
        "\n",
        "torch.save(model.state_dict(), save_dir)\n"
      ],
      "metadata": {
        "colab": {
          "base_uri": "https://localhost:8080/"
        },
        "id": "CgQP6rl7euMg",
        "outputId": "d0f84f96-408e-4783-ad23-b99e2490be8a"
      },
      "execution_count": 12,
      "outputs": [
        {
          "output_type": "stream",
          "name": "stdout",
          "text": [
            "Epoch [1/10], Loss: 0.0020, Accuracy: 99.96%\n",
            "Epoch [2/10], Loss: 0.0013, Accuracy: 99.96%\n",
            "Epoch [3/10], Loss: 0.0015, Accuracy: 99.97%\n",
            "Epoch [4/10], Loss: 0.0007, Accuracy: 99.98%\n",
            "Epoch [5/10], Loss: 0.0015, Accuracy: 99.97%\n",
            "Epoch [6/10], Loss: 0.0007, Accuracy: 99.98%\n",
            "Epoch [7/10], Loss: 0.0007, Accuracy: 99.98%\n",
            "Epoch [8/10], Loss: 0.0006, Accuracy: 99.99%\n",
            "Epoch [9/10], Loss: 0.0005, Accuracy: 99.99%\n",
            "Epoch [10/10], Loss: 0.0002, Accuracy: 99.99%\n"
          ]
        }
      ]
    },
    {
      "cell_type": "code",
      "source": [],
      "metadata": {
        "id": "coaFDkYpe7eX"
      },
      "execution_count": 12,
      "outputs": []
    },
    {
      "cell_type": "code",
      "source": [],
      "metadata": {
        "id": "ez9kScrHgqRZ"
      },
      "execution_count": 12,
      "outputs": []
    },
    {
      "cell_type": "code",
      "source": [],
      "metadata": {
        "id": "51dnKNTWgqY7"
      },
      "execution_count": 12,
      "outputs": []
    },
    {
      "cell_type": "code",
      "source": [
        "def evaluate(model, dataloader, device):\n",
        "    model.eval()\n",
        "    total_loss = 0\n",
        "    correct = 0\n",
        "    total = 0\n",
        "    criterion = torch.nn.CrossEntropyLoss()\n",
        "\n",
        "    with torch.no_grad():\n",
        "        for sentences, labels in dataloader:\n",
        "            sentences = sentences.to(device)\n",
        "            labels = labels.to(device)\n",
        "\n",
        "            outputs = model(sentences)\n",
        "            loss = criterion(outputs, labels)\n",
        "            total_loss += loss.item()\n",
        "\n",
        "            _, predicted = torch.max(outputs, 1)\n",
        "            total += labels.size(0)\n",
        "            correct += (predicted == labels).sum().item()\n",
        "\n",
        "    accuracy = 100 * correct / total\n",
        "    avg_loss = total_loss / len(dataloader)\n",
        "\n",
        "    print(f\"Evaluation Loss: {avg_loss:.4f}, Accuracy: {accuracy:.2f}%\")\n"
      ],
      "metadata": {
        "id": "O1ByJtrZgqcu"
      },
      "execution_count": 13,
      "outputs": []
    },
    {
      "cell_type": "code",
      "source": [
        "test_path = project_path + \"data/test/\"\n",
        "test_dataloader = train_loader(test_path, embedding_model=sp, debugging=debugging)"
      ],
      "metadata": {
        "id": "eOwHUVT8gruh"
      },
      "execution_count": 14,
      "outputs": []
    },
    {
      "cell_type": "code",
      "source": [
        "len(test_dataloader.dataset.sentences)"
      ],
      "metadata": {
        "colab": {
          "base_uri": "https://localhost:8080/"
        },
        "id": "kehsuQV4g0eq",
        "outputId": "a1c5e735-6149-4a17-e5de-71825625ef82"
      },
      "execution_count": 15,
      "outputs": [
        {
          "output_type": "execute_result",
          "data": {
            "text/plain": [
              "2000"
            ]
          },
          "metadata": {},
          "execution_count": 15
        }
      ]
    },
    {
      "cell_type": "code",
      "source": [
        "evaluate(model, test_dataloader, device)"
      ],
      "metadata": {
        "colab": {
          "base_uri": "https://localhost:8080/"
        },
        "id": "rYlGLZcug3dQ",
        "outputId": "d73c014e-1acb-4245-9534-29c759c50321"
      },
      "execution_count": 16,
      "outputs": [
        {
          "output_type": "stream",
          "name": "stdout",
          "text": [
            "Evaluation Loss: 0.0000, Accuracy: 100.00%\n"
          ]
        }
      ]
    },
    {
      "cell_type": "code",
      "source": [],
      "metadata": {
        "id": "XHcL8z_qepVr"
      },
      "execution_count": 25,
      "outputs": []
    },
    {
      "cell_type": "code",
      "source": [],
      "metadata": {
        "id": "NMa-Mu-BkLKD"
      },
      "execution_count": 25,
      "outputs": []
    },
    {
      "cell_type": "code",
      "source": [
        "id2label = {v: k for k, v in dataloader.dataset.label2id.items()}"
      ],
      "metadata": {
        "id": "cLTqcgB8kon2"
      },
      "execution_count": 34,
      "outputs": []
    },
    {
      "cell_type": "code",
      "source": [
        "def predict(model, input_sentence, sp, device):\n",
        "    model.eval()\n",
        "    encoded_sentence = sp.encode(input_sentence)\n",
        "    input_tensor = torch.tensor([encoded_sentence], dtype=torch.long)\n",
        "    input_tensor = input_tensor.to(device)\n",
        "\n",
        "    with torch.no_grad():\n",
        "      output = model(input_tensor)\n",
        "\n",
        "    _, predicted_class = torch.max(output, 1)\n",
        "    predicted_label = id2label[predicted_class.item()]\n",
        "\n",
        "    return predicted_label"
      ],
      "metadata": {
        "id": "vun_wPqQk2Ie"
      },
      "execution_count": 41,
      "outputs": []
    },
    {
      "cell_type": "code",
      "source": [
        "input_sentence = \"nahili, gowumy isler, cagalar, arada aylandym oba, salam aytdylar\"\n",
        "predict(model, input_sentence, sp, device)"
      ],
      "metadata": {
        "colab": {
          "base_uri": "https://localhost:8080/",
          "height": 35
        },
        "id": "TmJbobiCg4Sa",
        "outputId": "aa9c09b6-ed90-4582-df5b-c2395c4f58da"
      },
      "execution_count": 56,
      "outputs": [
        {
          "output_type": "execute_result",
          "data": {
            "text/plain": [
              "'turkmen'"
            ],
            "application/vnd.google.colaboratory.intrinsic+json": {
              "type": "string"
            }
          },
          "metadata": {},
          "execution_count": 56
        }
      ]
    },
    {
      "cell_type": "code",
      "source": [
        "sent_english = \"You currently have zero compute units available, resources offered free of charge are not guaranteed\"\n",
        "predict(model, sent_english, sp, device)"
      ],
      "metadata": {
        "colab": {
          "base_uri": "https://localhost:8080/",
          "height": 35
        },
        "id": "N-UgMoOIkYEd",
        "outputId": "f44adcdc-9f61-41ce-b7dd-8a855ff0318a"
      },
      "execution_count": 53,
      "outputs": [
        {
          "output_type": "execute_result",
          "data": {
            "text/plain": [
              "'english'"
            ],
            "application/vnd.google.colaboratory.intrinsic+json": {
              "type": "string"
            }
          },
          "metadata": {},
          "execution_count": 53
        }
      ]
    },
    {
      "cell_type": "code",
      "source": [
        "sent_dutch = \"Einigkeit und Recht und Freiheit für das deutsche Vaterland! Danach lasst uns alle streben\"\n",
        "predict(model, sent_dutch, sp, device)"
      ],
      "metadata": {
        "colab": {
          "base_uri": "https://localhost:8080/",
          "height": 35
        },
        "id": "ysO0acO6l7Z-",
        "outputId": "3836ff7f-5b63-4023-b40d-bd16767d2d19"
      },
      "execution_count": 60,
      "outputs": [
        {
          "output_type": "execute_result",
          "data": {
            "text/plain": [
              "'dutch'"
            ],
            "application/vnd.google.colaboratory.intrinsic+json": {
              "type": "string"
            }
          },
          "metadata": {},
          "execution_count": 60
        }
      ]
    }
  ]
}